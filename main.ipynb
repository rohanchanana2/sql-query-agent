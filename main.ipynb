{
 "cells": [
  {
   "cell_type": "code",
   "execution_count": 2,
   "metadata": {},
   "outputs": [],
   "source": [
    "from langchain_community.utilities import SQLDatabase\n",
    "from langchain.sql_database import SQLDatabase\n",
    "from langchain_groq import ChatGroq\n",
    "import psycopg2\n",
    "import os\n",
    "from dotenv import load_dotenv"
   ]
  },
  {
   "cell_type": "code",
   "execution_count": 3,
   "metadata": {},
   "outputs": [],
   "source": [
    "load_dotenv()\n",
    "\n",
    "api_key = os.getenv('API_KEY')\n",
    "database_url = os.getenv('DATABASE_URL')"
   ]
  },
  {
   "cell_type": "code",
   "execution_count": 4,
   "metadata": {},
   "outputs": [],
   "source": [
    "# Setting the PostgreSQL URI using the loaded database URL\n",
    "POSTGRES_URI = database_url"
   ]
  },
  {
   "cell_type": "code",
   "execution_count": 5,
   "metadata": {},
   "outputs": [],
   "source": [
    "# Initializing the SQLDatabase utility for LangChain with the PostgreSQL URI\n",
    "sql_db = SQLDatabase.from_uri(POSTGRES_URI)"
   ]
  },
  {
   "cell_type": "code",
   "execution_count": 6,
   "metadata": {},
   "outputs": [
    {
     "name": "stdout",
     "output_type": "stream",
     "text": [
      "postgresql\n"
     ]
    }
   ],
   "source": [
    "print(sql_db.dialect)"
   ]
  },
  {
   "cell_type": "code",
   "execution_count": 7,
   "metadata": {},
   "outputs": [
    {
     "name": "stdout",
     "output_type": "stream",
     "text": [
      "['analysis', 'entities', 'locations', 'mine_sites', 'stockpile_analysis', 'surveys', 'users']\n"
     ]
    }
   ],
   "source": [
    "print(sql_db.get_usable_table_names())"
   ]
  },
  {
   "cell_type": "code",
   "execution_count": 8,
   "metadata": {},
   "outputs": [],
   "source": [
    "# Setting up the ChatGroq LLM with parameters and the API key\n",
    "llm = ChatGroq(\n",
    "    model=\"mixtral-8x7b-32768\",\n",
    "    api_key=api_key,  \n",
    "    temperature=0,\n",
    "    max_tokens=None,\n",
    "    timeout=None,\n",
    "    max_retries=2,\n",
    ")"
   ]
  },
  {
   "cell_type": "code",
   "execution_count": 9,
   "metadata": {},
   "outputs": [],
   "source": [
    "from typing_extensions import TypedDict\n",
    "\n",
    "# Defining the structure of the application state\n",
    "class State(TypedDict):\n",
    "    question: str\n",
    "    query: str\n",
    "    result: str\n",
    "    answer: str"
   ]
  },
  {
   "cell_type": "code",
   "execution_count": 10,
   "metadata": {},
   "outputs": [
    {
     "name": "stderr",
     "output_type": "stream",
     "text": [
      "c:\\Users\\Rohan\\AppData\\Local\\Programs\\Python\\Python311\\Lib\\site-packages\\langsmith\\client.py:256: LangSmithMissingAPIKeyWarning: API key must be provided when using hosted LangSmith API\n",
      "  warnings.warn(\n"
     ]
    },
    {
     "name": "stdout",
     "output_type": "stream",
     "text": [
      "================================\u001b[1m System Message \u001b[0m================================\n",
      "\n",
      "Given an input question, create a syntactically correct \u001b[33;1m\u001b[1;3m{dialect}\u001b[0m query to run to help find the answer. Unless the user specifies in his question a specific number of examples they wish to obtain, always limit your query to at most \u001b[33;1m\u001b[1;3m{top_k}\u001b[0m results. You can order the results by a relevant column to return the most interesting examples in the database.\n",
      "\n",
      "Never query for all the columns from a specific table, only ask for a the few relevant columns given the question.\n",
      "\n",
      "Pay attention to use only the column names that you can see in the schema description. Be careful to not query for columns that do not exist. Also, pay attention to which column is in which table.\n",
      "\n",
      "Only use the following tables:\n",
      "\u001b[33;1m\u001b[1;3m{table_info}\u001b[0m\n",
      "\n",
      "Question: \u001b[33;1m\u001b[1;3m{input}\u001b[0m\n"
     ]
    }
   ],
   "source": [
    "from langchain import hub\n",
    "\n",
    "# Pulling a pre-defined prompt template for SQL query generation\n",
    "query_prompt_template = hub.pull(\"langchain-ai/sql-query-system-prompt\")\n",
    "\n",
    "assert len(query_prompt_template.messages) == 1\n",
    "query_prompt_template.messages[0].pretty_print()"
   ]
  },
  {
   "cell_type": "code",
   "execution_count": 11,
   "metadata": {},
   "outputs": [],
   "source": [
    "from typing_extensions import Annotated\n",
    "\n",
    "\n",
    "class QueryOutput(TypedDict):\n",
    "\n",
    "    query: Annotated[str, ..., \"Syntactically valid SQL query.\"]\n",
    "\n",
    "\n",
    "# Function to generate SQL queries using the LLM\n",
    "def write_query(state: State):\n",
    "    \n",
    "    prompt = query_prompt_template.invoke(\n",
    "        {\n",
    "            \"dialect\": sql_db.dialect,\n",
    "            \"top_k\": 10,\n",
    "            \"table_info\": sql_db.get_table_info(),\n",
    "            \"input\": state[\"question\"],\n",
    "        }\n",
    "    )\n",
    "    \n",
    "    structured_llm = llm.with_structured_output(QueryOutput)\n",
    "    result = structured_llm.invoke(prompt)\n",
    "    return {\"query\": result[\"query\"]}"
   ]
  },
  {
   "cell_type": "code",
   "execution_count": 41,
   "metadata": {},
   "outputs": [
    {
     "data": {
      "text/plain": [
       "'\\nCREATE TABLE analysis (\\n\\tid INTEGER NOT NULL, \\n\\tsurvey_id VARCHAR(255), \\n\\tversion VARCHAR(50) NOT NULL, \\n\\tstatus VARCHAR(50), \\n\\tcreated_by VARCHAR(255), \\n\\tcreated_at TIMESTAMP WITH TIME ZONE DEFAULT CURRENT_TIMESTAMP, \\n\\tupdated_at TIMESTAMP WITH TIME ZONE DEFAULT CURRENT_TIMESTAMP\\n)\\n\\n/*\\n3 rows from analysis table:\\nid\\tsurvey_id\\tversion\\tstatus\\tcreated_by\\tcreated_at\\tupdated_at\\n1\\t1\\t1\\tCompleted\\tAdmin\\t2024-12-23 10:24:59.518234+05:30\\t2024-12-23 10:24:59.518234+05:30\\n2\\t2\\t1\\tCompleted\\tAdmin\\t2024-12-23 10:24:59.518234+05:30\\t2024-12-23 10:24:59.518234+05:30\\n3\\t3\\t1\\tCompleted\\tAdmin\\t2024-12-23 10:24:59.518234+05:30\\t2024-12-23 10:24:59.518234+05:30\\n*/\\n\\n\\nCREATE TABLE entities (\\n\\tid INTEGER NOT NULL, \\n\\tname VARCHAR(255) NOT NULL, \\n\\tlocation_ids VARCHAR(255)[]\\n)\\n\\n/*\\n3 rows from entities table:\\nid\\tname\\tlocation_ids\\n1\\tTata\\tNone\\n2\\tAdani\\tNone\\n*/\\n\\n\\nCREATE TABLE locations (\\n\\tid INTEGER NOT NULL, \\n\\tname VARCHAR(255) NOT NULL, \\n\\taddress TEXT, \\n\\tcreated_at TIMESTAMP WITH TIME ZONE DEFAULT CURRENT_TIMESTAMP, \\n\\tupdated_at TIMESTAMP WITH TIME ZONE DEFAULT CURRENT_TIMESTAMP\\n)\\n\\n/*\\n3 rows from locations table:\\nid\\tname\\taddress\\tcreated_at\\tupdated_at\\n1\\tOrissa\\tNone\\t2024-12-23 10:23:36.314206+05:30\\t2024-12-23 10:23:36.314206+05:30\\n2\\tJharkhand\\tNone\\t2024-12-23 10:23:36.314206+05:30\\t2024-12-23 10:23:36.314206+05:30\\n3\\tTelangana\\tNone\\t2024-12-23 10:23:36.314206+05:30\\t2024-12-23 10:23:36.314206+05:30\\n*/\\n\\n\\nCREATE TABLE mine_sites (\\n\\tid INTEGER NOT NULL, \\n\\tentity_id INTEGER, \\n\\tlocation_id INTEGER, \\n\\tname VARCHAR(255) NOT NULL, \\n\\tdescription TEXT, \\n\\tis_active BOOLEAN DEFAULT true, \\n\\tcreated_at TIMESTAMP WITH TIME ZONE DEFAULT CURRENT_TIMESTAMP, \\n\\tupdated_at TIMESTAMP WITH TIME ZONE DEFAULT CURRENT_TIMESTAMP\\n)\\n\\n/*\\n3 rows from mine_sites table:\\nid\\tentity_id\\tlocation_id\\tname\\tdescription\\tis_active\\tcreated_at\\tupdated_at\\n1\\t1\\t1\\tKamarda Chromite Mine\\tNone\\tTrue\\t2024-12-23 10:23:36.314206+05:30\\t2024-12-23 10:23:36.314206+05:30\\n2\\t1\\t1\\tNadidih Iron Ore Mine\\tNone\\tTrue\\t2024-12-23 10:23:36.314206+05:30\\t2024-12-23 10:23:36.314206+05:30\\n3\\t1\\t2\\tOraghat Iron Ore Mine\\tNone\\tTrue\\t2024-12-23 10:23:36.314206+05:30\\t2024-12-23 10:23:36.314206+05:30\\n*/\\n\\n\\nCREATE TABLE stockpile_analysis (\\n\\tid INTEGER NOT NULL, \\n\\tanalysis_id INTEGER, \\n\\tpolygon_id VARCHAR(255), \\n\\tvolume NUMERIC, \\n\\tvalue NUMERIC, \\n\\tweight NUMERIC, \\n\\tmaterial VARCHAR(255), \\n\\tdensity NUMERIC, \\n\\tvalue_per_unit NUMERIC, \\n\\tdata_source VARCHAR(255), \\n\\tmethod VARCHAR(255), \\n\\tmode VARCHAR(255), \\n\\tcreated_at TIMESTAMP WITH TIME ZONE DEFAULT CURRENT_TIMESTAMP, \\n\\tupdated_at TIMESTAMP WITH TIME ZONE DEFAULT CURRENT_TIMESTAMP\\n)\\n\\n/*\\n3 rows from stockpile_analysis table:\\nid\\tanalysis_id\\tpolygon_id\\tvolume\\tvalue\\tweight\\tmaterial\\tdensity\\tvalue_per_unit\\tdata_source\\tmethod\\tmode\\tcreated_at\\tupdated_at\\n1\\t1\\t1\\t29.19735276\\t1657.942479\\t261.6082807\\tCopper\\t8960\\t6.3375\\tDSM\\tTriangular Fit\\tAI\\t2024-12-23 10:28:29.210979+05:30\\t2024-12-23 10:28:29.210979+05:30\\n2\\t1\\t2\\t27.26638221\\t1548.294247\\t244.3067846\\tCopper\\t8960\\t6.3375\\tDSM\\tTriangular Fit\\tManual\\t2024-12-23 10:28:29.210979+05:30\\t2024-12-23 10:28:29.210979+05:30\\n3\\t1\\t3\\t108.7729671\\t6176.564166\\t974.6057855\\tCopper\\t8960\\t6.3375\\tDSM\\tTriangular Fit\\tAI + Manual\\t2024-12-23 10:28:29.210979+05:30\\t2024-12-23 10:28:29.210979+05:30\\n*/\\n\\n\\nCREATE TABLE surveys (\\n\\tid INTEGER NOT NULL, \\n\\tsite_id INTEGER, \\n\\tsurvey_date DATE NOT NULL, \\n\\tsurveyor_id INTEGER, \\n\\tnotes TEXT, \\n\\tcreated_at TIMESTAMP WITH TIME ZONE DEFAULT CURRENT_TIMESTAMP, \\n\\tupdated_at TIMESTAMP WITH TIME ZONE DEFAULT CURRENT_TIMESTAMP\\n)\\n\\n/*\\n3 rows from surveys table:\\nid\\tsite_id\\tsurvey_date\\tsurveyor_id\\tnotes\\tcreated_at\\tupdated_at\\n1\\t1\\t2024-12-20\\t1\\tSurvey for Kamarda Chromite Mine\\t2024-12-23 10:24:40.314824+05:30\\t2024-12-23 10:24:40.314824+05:30\\n2\\t2\\t2024-12-20\\t1\\tSurvey for Nadidih Iron Ore Mine\\t2024-12-23 10:24:40.314824+05:30\\t2024-12-23 10:24:40.314824+05:30\\n3\\t3\\t2024-12-20\\t1\\tSurvey for Oraghat Iron Ore Mine\\t2024-12-23 10:24:40.314824+05:30\\t2024-12-23 10:24:40.314824+05:30\\n*/\\n\\n\\nCREATE TABLE users (\\n\\tid INTEGER NOT NULL, \\n\\tentity_id INTEGER, \\n\\temail VARCHAR(255) NOT NULL, \\n\\tpassword_hash VARCHAR(255) NOT NULL, \\n\\tfirst_name VARCHAR(255), \\n\\tlast_name VARCHAR(255), \\n\\trole VARCHAR(50), \\n\\tis_active BOOLEAN DEFAULT true, \\n\\taccess_level VARCHAR(50), \\n\\tsite_id INTEGER, \\n\\tgranted_at TIMESTAMP WITH TIME ZONE, \\n\\tgranted_by VARCHAR(255), \\n\\tcreated_at TIMESTAMP WITH TIME ZONE DEFAULT CURRENT_TIMESTAMP, \\n\\tupdated_at TIMESTAMP WITH TIME ZONE DEFAULT CURRENT_TIMESTAMP\\n)\\n\\n/*\\n3 rows from users table:\\nid\\tentity_id\\temail\\tpassword_hash\\tfirst_name\\tlast_name\\trole\\tis_active\\taccess_level\\tsite_id\\tgranted_at\\tgranted_by\\tcreated_at\\tupdated_at\\n1\\t1\\tmanager.tata@company.com\\thashed_password_1\\tManager\\tTata\\tManager\\tTrue\\tAdmin\\t1\\t2024-12-23 10:23:53.050291+05:30\\tSystem\\t2024-12-23 10:23:53.050291+05:30\\t2024-12-23 10:23:53.050291+05:30\\n2\\t1\\tsupervisor.tata@company.com\\thashed_password_2\\tSupervisor\\tTata\\tSupervisor\\tTrue\\tUser\\t1\\t2024-12-23 10:23:53.050291+05:30\\tSystem\\t2024-12-23 10:23:53.050291+05:30\\t2024-12-23 10:23:53.050291+05:30\\n3\\t2\\tmanager.adani@company.com\\thashed_password_3\\tManager\\tAdani\\tManager\\tTrue\\tAdmin\\t4\\t2024-12-23 10:23:53.050291+05:30\\tSystem\\t2024-12-23 10:23:53.050291+05:30\\t2024-12-23 10:23:53.050291+05:30\\n*/'"
      ]
     },
     "execution_count": 41,
     "metadata": {},
     "output_type": "execute_result"
    }
   ],
   "source": [
    "sql_db.get_table_info()"
   ]
  },
  {
   "cell_type": "code",
   "execution_count": 12,
   "metadata": {},
   "outputs": [],
   "source": [
    "# Connecting to PostgreSQL\n",
    "def connect_to_db():\n",
    "    conn = psycopg2.connect(POSTGRES_URI)  \n",
    "    return conn"
   ]
  },
  {
   "cell_type": "code",
   "execution_count": 13,
   "metadata": {},
   "outputs": [],
   "source": [
    "# Executing the SQL query\n",
    "def execute_sql_query(query: str):\n",
    "    conn = connect_to_db()\n",
    "    cursor = conn.cursor()\n",
    "    cursor.execute(query)\n",
    "    result = cursor.fetchall()\n",
    "    conn.close()\n",
    "    return result"
   ]
  },
  {
   "cell_type": "code",
   "execution_count": 14,
   "metadata": {},
   "outputs": [],
   "source": [
    "# Function to handle user questions, generate and execute SQL queries, and return answers\n",
    "def query_agent(question: str):\n",
    "\n",
    "    # Initialize state\n",
    "    state = State(question=question, query=\"\", result=\"\", answer=\"\")\n",
    "    \n",
    "    # Generating SQL query using the LLM\n",
    "    query_info = write_query(state)\n",
    "    query = query_info['query']\n",
    "    \n",
    "    # Executing the query\n",
    "    result = execute_sql_query(query)\n",
    "    \n",
    "    # Update state with the query\n",
    "    state[\"query\"] = query\n",
    "\n",
    "    # Store the result in the state\n",
    "    state[\"result\"] = str(result)\n",
    "    \n",
    "    state[\"answer\"] = f\"The result is: {result}\"\n",
    "    \n",
    "    return state[\"answer\"]"
   ]
  },
  {
   "cell_type": "code",
   "execution_count": 15,
   "metadata": {},
   "outputs": [],
   "source": [
    "user_input = \"what is the location id of Sagasahi Iron Ore Mine\"  # Example question"
   ]
  },
  {
   "cell_type": "code",
   "execution_count": 16,
   "metadata": {},
   "outputs": [
    {
     "name": "stdout",
     "output_type": "stream",
     "text": [
      "User Input: what is the location id of Sagasahi Iron Ore Mine\n"
     ]
    }
   ],
   "source": [
    "print(\"User Input:\", user_input)"
   ]
  },
  {
   "cell_type": "code",
   "execution_count": 17,
   "metadata": {},
   "outputs": [
    {
     "data": {
      "text/plain": [
       "{'query': \"SELECT location_id FROM mine_sites WHERE name = 'Sagasahi Iron Ore Mine';\"}"
      ]
     },
     "execution_count": 17,
     "metadata": {},
     "output_type": "execute_result"
    }
   ],
   "source": [
    "write_query({\"question\": \"what is the location id of Sagasahi Iron Ore Mine\"})"
   ]
  },
  {
   "cell_type": "code",
   "execution_count": 18,
   "metadata": {},
   "outputs": [],
   "source": [
    "response = query_agent(user_input)"
   ]
  },
  {
   "cell_type": "code",
   "execution_count": 19,
   "metadata": {},
   "outputs": [
    {
     "name": "stdout",
     "output_type": "stream",
     "text": [
      "Agent Response: The result is: [(3,)]\n"
     ]
    }
   ],
   "source": [
    "print(\"Agent Response:\", response)"
   ]
  },
  {
   "cell_type": "code",
   "execution_count": 20,
   "metadata": {},
   "outputs": [],
   "source": [
    "user_input = \"what are the total number of mines\"  # Example question"
   ]
  },
  {
   "cell_type": "code",
   "execution_count": 21,
   "metadata": {},
   "outputs": [
    {
     "name": "stdout",
     "output_type": "stream",
     "text": [
      "User Input: what are the total number of mines\n"
     ]
    }
   ],
   "source": [
    "print(\"User Input:\", user_input)"
   ]
  },
  {
   "cell_type": "code",
   "execution_count": 22,
   "metadata": {},
   "outputs": [
    {
     "data": {
      "text/plain": [
       "{'query': 'SELECT COUNT(*) FROM mine_sites;'}"
      ]
     },
     "execution_count": 22,
     "metadata": {},
     "output_type": "execute_result"
    }
   ],
   "source": [
    "write_query({\"question\": \"what are the total number of mines\"})"
   ]
  },
  {
   "cell_type": "code",
   "execution_count": 23,
   "metadata": {},
   "outputs": [],
   "source": [
    "response = query_agent(user_input)"
   ]
  },
  {
   "cell_type": "code",
   "execution_count": 24,
   "metadata": {},
   "outputs": [
    {
     "name": "stdout",
     "output_type": "stream",
     "text": [
      "Agent Response: The result is: [(11,)]\n"
     ]
    }
   ],
   "source": [
    "print(\"Agent Response:\", response)"
   ]
  },
  {
   "cell_type": "code",
   "execution_count": null,
   "metadata": {},
   "outputs": [],
   "source": []
  }
 ],
 "metadata": {
  "kernelspec": {
   "display_name": "Python 3",
   "language": "python",
   "name": "python3"
  },
  "language_info": {
   "codemirror_mode": {
    "name": "ipython",
    "version": 3
   },
   "file_extension": ".py",
   "mimetype": "text/x-python",
   "name": "python",
   "nbconvert_exporter": "python",
   "pygments_lexer": "ipython3",
   "version": "3.11.7"
  }
 },
 "nbformat": 4,
 "nbformat_minor": 2
}
